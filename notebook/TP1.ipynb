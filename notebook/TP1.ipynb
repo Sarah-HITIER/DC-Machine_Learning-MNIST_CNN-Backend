{
 "cells": [
  {
   "cell_type": "code",
   "execution_count": 1,
   "id": "initial_id",
   "metadata": {
    "ExecuteTime": {
     "end_time": "2024-06-25T07:27:10.391463Z",
     "start_time": "2024-06-25T07:27:07.212275Z"
    },
    "collapsed": true
   },
   "outputs": [],
   "source": [
    "import torch\n",
    "import torch.nn as nn\n",
    "import torch.nn.functional as F\n",
    "from torchvision import datasets, transforms\n",
    "\n",
    "import matplotlib.pyplot as plt"
   ]
  },
  {
   "cell_type": "code",
   "execution_count": 2,
   "id": "861b323771ae6647",
   "metadata": {
    "ExecuteTime": {
     "end_time": "2024-06-25T07:27:10.448311Z",
     "start_time": "2024-06-25T07:27:10.392896Z"
    }
   },
   "outputs": [
    {
     "data": {
      "text/plain": [
       "'cuda'"
      ]
     },
     "execution_count": 2,
     "metadata": {},
     "output_type": "execute_result"
    }
   ],
   "source": [
    "device ='cuda' if torch.cuda.is_available() else 'cpu'\n",
    "device"
   ]
  },
  {
   "cell_type": "code",
   "execution_count": 3,
   "id": "dcfceaa8f6da8b11",
   "metadata": {
    "ExecuteTime": {
     "end_time": "2024-06-25T07:27:10.458496Z",
     "start_time": "2024-06-25T07:27:10.449458Z"
    }
   },
   "outputs": [],
   "source": [
    "tf = transforms.Compose([transforms.ToTensor(), \n",
    "                         transforms.Normalize((0.1307,), (0.3081,))])"
   ]
  },
  {
   "cell_type": "code",
   "execution_count": 4,
   "id": "adc711c42a41e810",
   "metadata": {
    "ExecuteTime": {
     "end_time": "2024-06-25T07:27:10.543879Z",
     "start_time": "2024-06-25T07:27:10.460042Z"
    }
   },
   "outputs": [],
   "source": [
    "train_loader = torch.utils.data.DataLoader(datasets.MNIST(\"../data\", download=True, train=True, transform=tf), batch_size=64, shuffle=True)\n",
    "test_loader = torch.utils.data.DataLoader(datasets.MNIST(\"../data\", download=True, train=False, transform=tf), batch_size=64, shuffle=True)"
   ]
  },
  {
   "cell_type": "code",
   "execution_count": 5,
   "id": "46c1a5cbdd722b31",
   "metadata": {
    "ExecuteTime": {
     "end_time": "2024-06-25T07:27:10.569922Z",
     "start_time": "2024-06-25T07:27:10.545568Z"
    }
   },
   "outputs": [],
   "source": [
    "batch = next(iter(train_loader))\n",
    "x = batch[0][:10]\n",
    "y = batch[1][:10]"
   ]
  },
  {
   "cell_type": "code",
   "execution_count": 6,
   "id": "e9fa6068c5d884a2",
   "metadata": {
    "ExecuteTime": {
     "end_time": "2024-06-25T07:27:10.575437Z",
     "start_time": "2024-06-25T07:27:10.571154Z"
    }
   },
   "outputs": [
    {
     "data": {
      "text/plain": [
       "torch.Size([1, 28, 28])"
      ]
     },
     "execution_count": 6,
     "metadata": {},
     "output_type": "execute_result"
    }
   ],
   "source": [
    "x[0].shape"
   ]
  },
  {
   "cell_type": "code",
   "execution_count": null,
   "id": "a7c7b34062120474",
   "metadata": {
    "ExecuteTime": {
     "end_time": "2024-06-25T07:27:10.580990Z",
     "start_time": "2024-06-25T07:27:10.577837Z"
    }
   },
   "outputs": [],
   "source": []
  },
  {
   "cell_type": "code",
   "execution_count": 7,
   "id": "5642a2351ca55f9a",
   "metadata": {
    "ExecuteTime": {
     "end_time": "2024-06-25T07:27:10.919526Z",
     "start_time": "2024-06-25T07:27:10.582067Z"
    }
   },
   "outputs": [
    {
     "data": {
      "image/png": "[encoded data removed]",
      "text/plain": [
       "<Figure size 1200x400 with 5 Axes>"
      ]
     },
     "metadata": {},
     "output_type": "display_data"
    }
   ],
   "source": [
    "fig, axs = plt.subplots(1, 5, figsize=(12, 4))\n",
    "for i in range(5):\n",
    "    axs[i].imshow(x[i].squeeze().numpy())\n",
    "    axs[i].set_title(f\"Label: {y[i].item()}\")  # Use y[i] to get the corresponding label\n",
    "plt.show()"
   ]
  },
  {
   "cell_type": "code",
   "execution_count": 8,
   "id": "792b6d797ea94f50",
   "metadata": {
    "ExecuteTime": {
     "end_time": "2024-06-25T07:27:10.924941Z",
     "start_time": "2024-06-25T07:27:10.921206Z"
    }
   },
   "outputs": [],
   "source": [
    "class ConvNet(nn.Module):\n",
    "    def __init__(self, input_size, n_kernel, output_size):\n",
    "        super().__init__()\n",
    "        self.net = nn.Sequential(\n",
    "            nn.Conv2d(in_channels=1, out_channels=n_kernel, kernel_size=5),\n",
    "            nn.ReLU(),\n",
    "            nn.MaxPool2d(kernel_size=2),\n",
    "            nn.Conv2d(in_channels=n_kernel, out_channels=n_kernel, kernel_size=5),\n",
    "            nn.ReLU(),\n",
    "            nn.MaxPool2d(kernel_size=2),\n",
    "            nn.Flatten(),\n",
    "            nn.Linear(in_features=n_kernel * 4 * 4, out_features=50),\n",
    "            nn.Linear(50, 10),\n",
    "        )\n",
    "    def forward(self, x):\n",
    "        return self.net(x)"
   ]
  },
  {
   "cell_type": "code",
   "execution_count": 9,
   "id": "227c10613ceeba15",
   "metadata": {
    "ExecuteTime": {
     "end_time": "2024-06-25T07:27:10.933366Z",
     "start_time": "2024-06-25T07:27:10.927099Z"
    }
   },
   "outputs": [],
   "source": [
    "def train(model, perm=torch.arange(0, 784).long(), n_epochs=1):\n",
    "    model.train()    \n",
    "    optimizer = torch.optim.AdamW(model.parameters())\n",
    "    # optimizer = torch.optim.AdamW(model.parameters(), lr=1e-5)\n",
    "\n",
    "    \n",
    "    for epoch in range(n_epochs):\n",
    "        for i, (data, target) in enumerate(train_loader):\n",
    "            # send to device\n",
    "            data, targets = data.to(device), target.to(device)\n",
    "\n",
    "            # permute pixels\n",
    "            data = data.view(-1, 28*28)\n",
    "            data = data[:, perm]\n",
    "            data = data.view(-1, 1, 28, 28)\n",
    "\n",
    "            # step\n",
    "            optimizer.zero_grad()\n",
    "            logits = model(data)\n",
    "            \n",
    "            loss = F.cross_entropy(logits, targets)\n",
    "            loss.backward()\n",
    "            optimizer.step()\n",
    "\n",
    "            if i % 100 == 0:\n",
    "                print(f\"epoch={epoch}, step={i}: train loss={loss.item():.4f}\")"
   ]
  },
  {
   "cell_type": "code",
   "execution_count": 10,
   "id": "c92022d22750fa6f",
   "metadata": {
    "ExecuteTime": {
     "end_time": "2024-06-25T07:27:25.767534Z",
     "start_time": "2024-06-25T07:27:10.935107Z"
    }
   },
   "outputs": [
    {
     "name": "stdout",
     "output_type": "stream",
     "text": [
      "Parameters=6.422K\n",
      "epoch=0, step=0: train loss=2.2518\n",
      "epoch=0, step=100: train loss=0.2597\n",
      "epoch=0, step=200: train loss=0.3092\n",
      "epoch=0, step=300: train loss=0.2699\n",
      "epoch=0, step=400: train loss=0.2567\n",
      "epoch=0, step=500: train loss=0.2464\n",
      "epoch=0, step=600: train loss=0.2056\n",
      "epoch=0, step=700: train loss=0.0522\n",
      "epoch=0, step=800: train loss=0.0650\n",
      "epoch=0, step=900: train loss=0.1265\n"
     ]
    }
   ],
   "source": [
    "# ConvNet\n",
    "n_kernel = 6\n",
    "input_size = 28*28  \n",
    "output_size = 10\n",
    "convnet = ConvNet(input_size, n_kernel, output_size)\n",
    "convnet.to(device)\n",
    "print(f\"Parameters={sum(p.numel() for p in convnet.parameters())/1e3}K\")\n",
    "train(convnet)\n",
    "\n"
   ]
  },
  {
   "cell_type": "code",
   "execution_count": 11,
   "id": "61fd3181c54ccc49",
   "metadata": {
    "ExecuteTime": {
     "end_time": "2024-06-25T07:27:25.773883Z",
     "start_time": "2024-06-25T07:27:25.768840Z"
    }
   },
   "outputs": [],
   "source": [
    "def test(model, perm=torch.arange(0, 784).long()):\n",
    "    model.eval()\n",
    "    \n",
    "    test_loss = 0\n",
    "    correct = 0\n",
    "    \n",
    "    for data, targets in test_loader:\n",
    "        # send to device\n",
    "        data, targets = data.to(device), targets.to(device)\n",
    "        \n",
    "        # permute pixels\n",
    "        data = data.view(-1, 28*28)\n",
    "        data = data[:, perm]\n",
    "        data = data.view(-1, 1, 28, 28)\n",
    "        \n",
    "        # metrics\n",
    "        logits = model(data)\n",
    "        test_loss += F.cross_entropy(logits, targets, reduction='sum').item()\n",
    "        preds = torch.argmax(logits, dim=1)\n",
    "        correct += (preds == targets).sum()\n",
    "\n",
    "    test_loss /= len(test_loader.dataset)\n",
    "    accuracy = correct / len(test_loader.dataset)\n",
    "    \n",
    "    print(f\"test loss={test_loss:.4f}, accuracy={accuracy:.4f}\")"
   ]
  },
  {
   "cell_type": "code",
   "execution_count": 12,
   "id": "e9dd4672c00151ef",
   "metadata": {
    "ExecuteTime": {
     "end_time": "2024-06-25T07:27:27.660164Z",
     "start_time": "2024-06-25T07:27:25.775666Z"
    }
   },
   "outputs": [
    {
     "name": "stdout",
     "output_type": "stream",
     "text": [
      "test loss=0.1326, accuracy=0.9605\n"
     ]
    }
   ],
   "source": [
    "test(convnet)"
   ]
  },
  {
   "cell_type": "code",
   "execution_count": 13,
   "id": "54db7c5982a30303",
   "metadata": {
    "ExecuteTime": {
     "end_time": "2024-06-25T07:27:27.681165Z",
     "start_time": "2024-06-25T07:27:27.667825Z"
    }
   },
   "outputs": [],
   "source": [
    "import numpy as np\n",
    "from torch import Tensor\n",
    "\n",
    "ts = \\\n",
    "    [\n",
    "    [0, 0, 0, 0, 0, 0, 0, 0, 0, 0, 0, 0, 0, 0, 0, 0, 0, 0, 0, 0, 0, 0, 0, 0, 0, 0, 0, 0],\n",
    "    [0, 0, 0, 0, 0, 0, 0, 0, 0, 0, 0, 0, 0, 0, 0, 0, 0, 0, 0, 0, 0, 0, 0, 0, 0, 0, 0, 0],\n",
    "    [0, 0, 0, 0, 0, 0, 0, 0, 0, 0, 0, 255, 255, 255, 0, 0, 0, 0, 0, 0, 0, 0, 0, 0, 0, 0, 0, 0],\n",
    "    [0, 0, 0, 0, 0, 0, 0, 0, 0, 0, 0, 255, 255, 255, 0, 0, 0, 0, 0, 0, 0, 0, 0, 0, 0, 0, 0, 0],\n",
    "    [0, 0, 0, 0, 0, 0, 0, 0, 0, 0, 255, 255, 255, 255, 0, 0, 0, 0, 0, 0, 0, 0, 0, 0, 0, 0, 0, 0],\n",
    "    [0, 0, 0, 0, 0, 0, 0, 0, 0, 255, 255, 255, 255, 255, 0, 0, 0, 0, 0, 0, 0, 0, 0, 0, 0, 0, 0, 0],\n",
    "    [0, 0, 0, 0, 0, 0, 0, 0, 255, 255, 255, 255, 255, 255, 0, 0, 0, 0, 0, 0, 0, 0, 0, 0, 0, 0, 0, 0],\n",
    "    [0, 0, 0, 0, 0, 0, 0, 255, 255, 255, 255, 255, 255, 255, 0, 0, 0, 0, 0, 0, 0, 0, 0, 0, 0, 0, 0, 0],\n",
    "    [0, 0, 0, 0, 0, 0, 255, 255, 255, 255, 0, 255, 255, 255, 0, 0, 0, 0, 0, 0, 0, 0, 0, 0, 0, 0, 0, 0],\n",
    "    [0, 0, 0, 0, 0, 255, 255, 255, 255, 0, 0, 255, 255, 255, 0, 0, 0, 0, 0, 0, 0, 0, 0, 0, 0, 0, 0, 0],\n",
    "    [0, 0, 0, 0, 255, 255, 255, 255, 0, 0, 0, 255, 255, 255, 0, 0, 0, 0, 0, 0, 0, 0, 0, 0, 0, 0, 0, 0],\n",
    "    [0, 0, 0, 0, 128, 255, 255, 0, 0, 0, 0, 255, 255, 255, 0, 0, 0, 0, 0, 0, 0, 0, 0, 0, 0, 0, 0, 0],\n",
    "    [0, 0, 0, 0, 0, 0, 0, 0, 0, 0, 0, 255, 255, 255, 0, 0, 0, 0, 0, 0, 0, 0, 0, 0, 0, 0, 0, 0],\n",
    "    [0, 0,0, 0, 0, 0, 0, 0, 0, 0, 0, 255, 255, 255, 0, 0, 0, 0, 0, 0, 0, 0, 0, 0, 0, 0, 0, 0],\n",
    "    [0, 0, 0, 0, 0, 0, 0, 0, 0, 0, 0, 128, 255, 255, 0, 0, 0, 0, 0, 0, 0, 0, 0, 0, 0, 0, 0, 0],\n",
    "    [0, 0, 0, 0, 0, 0, 0, 0, 0, 0, 0, 128, 255, 255, 0, 0, 0, 0, 0, 0, 0, 0, 0, 0, 0, 0, 0, 0],\n",
    "    [0, 0, 0, 0, 0, 0, 0, 0, 0, 0, 0, 128, 255, 255, 0, 0, 0, 0, 0, 0, 0, 0, 0, 0, 0, 0, 0, 0],\n",
    "    [0, 0, 0, 0, 0, 0, 0, 0, 0, 0, 0, 128, 255, 255, 0, 0, 0, 0, 0, 0, 0, 0, 0, 0, 0, 0, 0, 0], \n",
    "    [0, 0, 0, 0, 0, 0, 0, 0, 0, 0, 0, 128, 255, 255, 0, 0, 0, 0, 0, 0, 0, 0, 0, 0, 0, 0, 0, 0],\n",
    "    [0, 0, 0, 0, 0, 0, 0, 0, 0, 0, 0, 128, 255, 255, 0, 0, 0, 0, 0, 0, 0, 0, 0, 0, 0, 0, 0, 0],\n",
    "    [0, 0, 0, 0, 0, 0, 0, 0, 0, 0, 0, 0, 255, 255, 0, 0, 0, 0, 0, 0, 0, 0, 0, 0, 0, 0, 0, 0],\n",
    "    [0, 0, 0, 0, 0, 0, 0, 0, 0, 0, 0, 0, 255, 255, 128, 0, 0, 0, 0, 0, 0, 0, 0, 0, 0, 0, 0, 0],\n",
    "    [0, 0, 0, 0, 0, 0, 0, 0, 0, 0, 0, 0, 255, 255, 64, 0, 0, 0, 0, 0, 0, 0, 0, 0, 0, 0, 0, 0],\n",
    "    [0, 0, 0, 0, 0, 0, 0, 0, 0, 0, 0, 0, 0, 64, 0, 0, 0, 0, 0, 0, 0, 0, 0, 0, 0, 0, 0, 0],\n",
    "    [0, 0, 0, 0, 0, 0, 0, 0, 0, 0, 0, 0, 0, 0, 0, 0, 0, 0, 0, 0, 0, 0, 0, 0, 0, 0, 0, 0],\n",
    "    [0, 0, 0, 0, 0, 0, 0, 0, 0, 0, 0, 0, 0, 0, 0, 0, 0, 0, 0, 0, 0, 0, 0, 0, 0, 0, 0, 0],\n",
    "    [0, 0, 0, 0, 0, 0, 0, 0, 0, 0, 0, 0, 0, 0, 0, 0, 0, 0, 0, 0, 0, 0, 0, 0, 0, 0, 0, 0],\n",
    "    [0, 0, 0, 0, 0, 0, 0, 0, 0, 0, 0, 0, 0, 0, 0, 0, 0, 0, 0, 0, 0, 0, 0, 0, 0, 0, 0, 0]]\n",
    "\n",
    "\n",
    "img = np.array(ts, dtype=np.float32) / 255\n",
    "ts = tf(img)\n",
    "perm=torch.arange(0, 784).long()\n",
    "ts = ts.view(-1, 28*28)\n",
    "ts = ts[:, perm]\n",
    "ts = ts.view(-1, 1, 28, 28)\n",
    "ts = ts.to(device)"
   ]
  },
  {
   "cell_type": "code",
   "execution_count": 14,
   "id": "a4e7e0424abc574c",
   "metadata": {
    "ExecuteTime": {
     "end_time": "2024-06-25T07:27:27.708457Z",
     "start_time": "2024-06-25T07:27:27.689931Z"
    }
   },
   "outputs": [],
   "source": [
    "convnet.eval()\n",
    "with torch.no_grad():\n",
    "    y_pred = convnet(ts)"
   ]
  },
  {
   "cell_type": "code",
   "execution_count": 15,
   "id": "db7d7a7d0a2a168b",
   "metadata": {
    "ExecuteTime": {
     "end_time": "2024-06-25T07:27:27.782575Z",
     "start_time": "2024-06-25T07:27:27.709938Z"
    }
   },
   "outputs": [
    {
     "name": "stdout",
     "output_type": "stream",
     "text": [
      "tensor([[-3.0626,  2.7084, -0.4546, -5.4904,  0.5802,  1.3416,  1.8292, -4.5070,\n",
      "          8.2102, -3.3943]], device='cuda:0')\n"
     ]
    }
   ],
   "source": [
    "print(y_pred)\n",
    "preds = torch.argmax(y_pred, dim=1)"
   ]
  },
  {
   "cell_type": "code",
   "execution_count": 16,
   "id": "b78ee792518149de",
   "metadata": {
    "ExecuteTime": {
     "end_time": "2024-06-25T07:27:27.788484Z",
     "start_time": "2024-06-25T07:27:27.783962Z"
    }
   },
   "outputs": [
    {
     "data": {
      "text/plain": [
       "8"
      ]
     },
     "execution_count": 16,
     "metadata": {},
     "output_type": "execute_result"
    }
   ],
   "source": [
    "preds.cpu().item()"
   ]
  },
  {
   "cell_type": "code",
   "execution_count": 17,
   "id": "14e0dad679d26f77",
   "metadata": {
    "ExecuteTime": {
     "end_time": "2024-06-25T07:27:27.794493Z",
     "start_time": "2024-06-25T07:27:27.789625Z"
    }
   },
   "outputs": [],
   "source": [
    "class MLP(nn.Module):\n",
    "    def __init__(self, input_size, n_hidden, output_size):\n",
    "        super().__init__()\n",
    "        self.input_size = input_size\n",
    "        self.net = nn.Sequential(\n",
    "            nn.Linear(input_size, n_hidden),\n",
    "            nn.ReLU(),\n",
    "            nn.Linear(n_hidden, n_hidden),\n",
    "            nn.ReLU(),\n",
    "            nn.Linear(n_hidden, output_size),\n",
    "            # nn.Softmax(dim=-1)\n",
    "        )\n",
    "        \n",
    "    def forward(self, x):\n",
    "        x = x.view(-1, self.input_size)\n",
    "        return self.net(x)\n",
    "\n",
    "\n",
    "# class ConvNet(nn.Module):\n",
    "#     def __init__(self, input_size, n_kernels, output_size):\n",
    "#         super().__init__()\n",
    "#         self.net = nn.Sequential(\n",
    "#             nn.Conv2d(in_channels=1, out_channels=n_kernels, kernel_size=5),\n",
    "#             nn.ReLU(),\n",
    "#             nn.MaxPool2d(kernel_size=2),\n",
    "#             nn.Conv2d(in_channels=n_kernels, out_channels=n_kernels, kernel_size=5),\n",
    "#             nn.ReLU(),\n",
    "#             nn.MaxPool2d(kernel_size=2),\n",
    "#             nn.Flatten(),\n",
    "#             nn.Linear(n_kernels * 4 * 4, 50),\n",
    "#             nn.Linear(50, 10),\n",
    "#             # nn.Softmax(dim=-1)\n",
    "#         )\n",
    "        \n",
    "#     def forward(self, x):\n",
    "#         return self.net(x)\n",
    "\n",
    "class ConvNet(nn.Module):\n",
    "    def __init__(self, input_size, n_kernels, output_size):\n",
    "        super(ConvNet, self).__init__()\n",
    "        self.conv1 = nn.Conv2d(in_channels=1, out_channels=4, kernel_size=3, padding=1)\n",
    "        self.pool = nn.MaxPool2d(2, 2)\n",
    "        self.conv2 = nn.Conv2d(in_channels=4, out_channels=8, kernel_size=3, padding=1)\n",
    "        self.fc = nn.Linear(8 * 7 * 7, 10)\n",
    "\n",
    "    def forward(self, x):\n",
    "        x = self.pool(torch.relu(self.conv1(x)))\n",
    "        x = self.pool(torch.relu(self.conv2(x)))\n",
    "        x = x.view(-1, 8 * 7 * 7)\n",
    "        return self.fc(x)"
   ]
  },
  {
   "cell_type": "code",
   "execution_count": 18,
   "id": "709cb87d1958a194",
   "metadata": {
    "ExecuteTime": {
     "end_time": "2024-06-25T07:28:59.437684Z",
     "start_time": "2024-06-25T07:28:59.431140Z"
    }
   },
   "outputs": [
    {
     "name": "stdout",
     "output_type": "stream",
     "text": [
      "MLP(\n",
      "  (net): Sequential(\n",
      "    (0): Linear(in_features=784, out_features=8, bias=True)\n",
      "    (1): ReLU()\n",
      "    (2): Linear(in_features=8, out_features=8, bias=True)\n",
      "    (3): ReLU()\n",
      "    (4): Linear(in_features=8, out_features=10, bias=True)\n",
      "  )\n",
      ")\n"
     ]
    }
   ],
   "source": [
    "mlp = MLP(input_size, 8, output_size)\n",
    "mlp.to(device)\n",
    "print(mlp)"
   ]
  },
  {
   "cell_type": "code",
   "execution_count": 19,
   "id": "61211ba27ad398aa",
   "metadata": {
    "ExecuteTime": {
     "end_time": "2024-06-25T07:29:18.052161Z",
     "start_time": "2024-06-25T07:29:05.592485Z"
    }
   },
   "outputs": [
    {
     "name": "stdout",
     "output_type": "stream",
     "text": [
      "epoch=0, step=0: train loss=2.3514\n",
      "epoch=0, step=100: train loss=1.5070\n",
      "epoch=0, step=200: train loss=1.0717\n",
      "epoch=0, step=300: train loss=0.7944\n",
      "epoch=0, step=400: train loss=0.6417\n",
      "epoch=0, step=500: train loss=0.8709\n",
      "epoch=0, step=600: train loss=0.6959\n",
      "epoch=0, step=700: train loss=0.3601\n",
      "epoch=0, step=800: train loss=0.5998\n",
      "epoch=0, step=900: train loss=0.6249\n"
     ]
    }
   ],
   "source": [
    "train(mlp)"
   ]
  },
  {
   "cell_type": "code",
   "execution_count": 20,
   "id": "59a13b410fc33a6d",
   "metadata": {
    "ExecuteTime": {
     "end_time": "2024-06-25T07:38:51.399799Z",
     "start_time": "2024-06-25T07:38:51.396152Z"
    }
   },
   "outputs": [],
   "source": [
    "def main(model):    \n",
    "    # Affichage du nombre de paramètres du modèle\n",
    "    print(f\"Parameters={sum(p.numel() for p in model.parameters())/1e3}K\")\n",
    "    \n",
    "    # Entraînement du modèle\n",
    "    train(model)\n",
    "    \n",
    "    # Évaluation du modèle sur le dataset de test\n",
    "    test(model)"
   ]
  },
  {
   "cell_type": "code",
   "execution_count": 21,
   "id": "11c637dacda8204",
   "metadata": {
    "ExecuteTime": {
     "end_time": "2024-06-25T07:39:13.631660Z",
     "start_time": "2024-06-25T07:38:59.079008Z"
    }
   },
   "outputs": [
    {
     "name": "stdout",
     "output_type": "stream",
     "text": [
      "Parameters=6.442K\n",
      "epoch=0, step=0: train loss=0.4474\n",
      "epoch=0, step=100: train loss=0.6269\n",
      "epoch=0, step=200: train loss=0.4198\n",
      "epoch=0, step=300: train loss=0.4779\n",
      "epoch=0, step=400: train loss=0.2998\n",
      "epoch=0, step=500: train loss=0.3376\n",
      "epoch=0, step=600: train loss=0.3194\n",
      "epoch=0, step=700: train loss=0.3119\n",
      "epoch=0, step=800: train loss=0.2253\n",
      "epoch=0, step=900: train loss=0.1436\n",
      "test loss=0.3865, accuracy=0.8880\n"
     ]
    }
   ],
   "source": [
    "main(mlp)"
   ]
  },
  {
   "cell_type": "code",
   "execution_count": 22,
   "id": "29ed0ffb",
   "metadata": {},
   "outputs": [
    {
     "data": {
      "text/plain": [
       "ConvNet(\n",
       "  (conv1): Conv2d(1, 4, kernel_size=(3, 3), stride=(1, 1), padding=(1, 1))\n",
       "  (pool): MaxPool2d(kernel_size=2, stride=2, padding=0, dilation=1, ceil_mode=False)\n",
       "  (conv2): Conv2d(4, 8, kernel_size=(3, 3), stride=(1, 1), padding=(1, 1))\n",
       "  (fc): Linear(in_features=392, out_features=10, bias=True)\n",
       ")"
      ]
     },
     "execution_count": 22,
     "metadata": {},
     "output_type": "execute_result"
    }
   ],
   "source": [
    "# ConvNet\n",
    "n_kernel = 6\n",
    "input_size = 28*28  \n",
    "output_size = 10\n",
    "convnet = ConvNet(input_size, n_kernel, output_size)\n",
    "convnet.to(device)"
   ]
  },
  {
   "cell_type": "code",
   "execution_count": 23,
   "id": "32b1dd761e3535f1",
   "metadata": {
    "ExecuteTime": {
     "end_time": "2024-06-25T07:39:35.968252Z",
     "start_time": "2024-06-25T07:39:21.343064Z"
    }
   },
   "outputs": [
    {
     "name": "stdout",
     "output_type": "stream",
     "text": [
      "Parameters=4.266K\n",
      "epoch=0, step=0: train loss=2.3699\n",
      "epoch=0, step=100: train loss=0.3527\n",
      "epoch=0, step=200: train loss=0.2627\n",
      "epoch=0, step=300: train loss=0.1886\n",
      "epoch=0, step=400: train loss=0.1050\n",
      "epoch=0, step=500: train loss=0.1960\n",
      "epoch=0, step=600: train loss=0.1841\n",
      "epoch=0, step=700: train loss=0.0945\n",
      "epoch=0, step=800: train loss=0.1202\n",
      "epoch=0, step=900: train loss=0.1528\n",
      "test loss=0.1213, accuracy=0.9627\n"
     ]
    }
   ],
   "source": [
    "main(convnet)"
   ]
  },
  {
   "cell_type": "markdown",
   "id": "f329c383",
   "metadata": {},
   "source": [
    "La précision du ConvNet (0.98) est nettement supérieure à celle du MLP (0.90), ce qui indique que le ConvNet est beaucoup plus efficace pour classer correctement les images.\n",
    "\n",
    "On note également que :\n",
    "- Le ConvNet montre des pertes d'entraînement beaucoup plus faibles et plus stables (entre 0.03 et 0.1) que le MLP (entre 0.29 et 0.7), ce qui suggère une meilleure capacité à minimiser l'erreur de prédiction.\n",
    "- Une perte de test plus faible dans le ConvNet (0.06), tandis que le MLP (0.35) montre une perte de test plus élevée, indiquant qu'il a plus de mal à généraliser.\n",
    "\n",
    "Cela s'exploque entre autre par le fait que dans le modèle ConvNet, le poids est partagé entre les différentes couches ce qui réduit le nombre de paramètres à apprendre, contrairement à MLP où le poids n'est pas partagé, complexifiant le modèle et l'apprentissage."
   ]
  },
  {
   "cell_type": "markdown",
   "id": "9ede5019c1753fd8",
   "metadata": {},
   "source": [
    "___\n",
    "#### 3. 7. Application d’un shuffle aléatoire"
   ]
  },
  {
   "cell_type": "code",
   "execution_count": 24,
   "id": "e8988fbc",
   "metadata": {},
   "outputs": [],
   "source": [
    "def mainWithRandomPerm(model):   \n",
    "    perm = torch.randperm(784)\n",
    "\n",
    "    # Affichage du nombre de paramètres du modèle\n",
    "    print(f\"Parameters={sum(p.numel() for p in model.parameters())/1e3}K\")\n",
    "    \n",
    "    # Entraînement du modèle\n",
    "    train(model, perm)\n",
    "    \n",
    "    # Évaluation du modèle sur le dataset de test\n",
    "    test(model, perm)"
   ]
  },
  {
   "cell_type": "code",
   "execution_count": 25,
   "id": "1cf1e39a",
   "metadata": {},
   "outputs": [
    {
     "name": "stdout",
     "output_type": "stream",
     "text": [
      "Parameters=6.442K\n",
      "epoch=0, step=0: train loss=2.8366\n",
      "epoch=0, step=100: train loss=0.7622\n",
      "epoch=0, step=200: train loss=0.5983\n",
      "epoch=0, step=300: train loss=0.3395\n",
      "epoch=0, step=400: train loss=0.5170\n",
      "epoch=0, step=500: train loss=0.5489\n",
      "epoch=0, step=600: train loss=0.4458\n",
      "epoch=0, step=700: train loss=0.3134\n",
      "epoch=0, step=800: train loss=0.2189\n",
      "epoch=0, step=900: train loss=0.3056\n",
      "test loss=0.3381, accuracy=0.9001\n"
     ]
    }
   ],
   "source": [
    "mainWithRandomPerm(mlp)"
   ]
  },
  {
   "cell_type": "code",
   "execution_count": 26,
   "id": "02fb272b",
   "metadata": {},
   "outputs": [
    {
     "name": "stdout",
     "output_type": "stream",
     "text": [
      "Parameters=4.266K\n",
      "epoch=0, step=0: train loss=4.4130\n",
      "epoch=0, step=100: train loss=1.0175\n",
      "epoch=0, step=200: train loss=0.6378\n",
      "epoch=0, step=300: train loss=0.7720\n",
      "epoch=0, step=400: train loss=0.6625\n",
      "epoch=0, step=500: train loss=0.7701\n",
      "epoch=0, step=600: train loss=0.2436\n",
      "epoch=0, step=700: train loss=0.3795\n",
      "epoch=0, step=800: train loss=0.5461\n",
      "epoch=0, step=900: train loss=0.5441\n",
      "test loss=0.3564, accuracy=0.8918\n"
     ]
    }
   ],
   "source": [
    "mainWithRandomPerm(convnet)"
   ]
  },
  {
   "cell_type": "markdown",
   "id": "e384e905",
   "metadata": {},
   "source": [
    "On remarque qu'en appliquant une permutation aléatoire, la précision du modèle ConvNet réduit fortement. C'est maitenant le modèle MLP qui offre une meilleure précision.\n",
    "\n",
    "Cela s'explique par le fait que la permutation aléatoire détruit la structure des données. Le modèle ConvNet ne peut donc plus reconnaître de motifs particuliers. Le MLP traite pixel par pixel, ses performances ne sont donc pas affectées par la permutation aléatoire."
   ]
  },
  {
   "cell_type": "markdown",
   "id": "dc188e5f",
   "metadata": {},
   "source": [
    "___\n",
    "#### 3. 8. Sauvegarde du modèle"
   ]
  },
  {
   "cell_type": "code",
   "execution_count": 27,
   "id": "0eec1194",
   "metadata": {},
   "outputs": [],
   "source": [
    "def save_model(model, save_path):\n",
    "    # Save the model\n",
    "    torch.save(model.state_dict(), save_path)\n",
    "\n",
    "    print(f\"Le modèle a été sauvegardé à l'emplacement : {save_path}\")"
   ]
  },
  {
   "cell_type": "code",
   "execution_count": 28,
   "id": "f8a1b499",
   "metadata": {},
   "outputs": [
    {
     "name": "stdout",
     "output_type": "stream",
     "text": [
      "Le modèle a été sauvegardé à l'emplacement : ../model/mlp_model.pt\n"
     ]
    }
   ],
   "source": [
    "save_model(mlp, \"../model/mlp_model.pt\")"
   ]
  },
  {
   "cell_type": "code",
   "execution_count": 29,
   "id": "aef4335f",
   "metadata": {},
   "outputs": [
    {
     "name": "stdout",
     "output_type": "stream",
     "text": [
      "Le modèle a été sauvegardé à l'emplacement : ../model/convnet_model.pt\n"
     ]
    }
   ],
   "source": [
    "save_model(convnet, \"../model/convnet_model.pt\")"
   ]
  },
  {
   "cell_type": "markdown",
   "id": "bc3e72d6",
   "metadata": {},
   "source": [
    "___\n",
    "#### 3. 9. Conversion d’un notebook vers des fichiers sources"
   ]
  }
 ],
 "metadata": {
  "kernelspec": {
   "display_name": "Python 3",
   "language": "python",
   "name": "python3"
  },
  "language_info": {
   "codemirror_mode": {
    "name": "ipython",
    "version": 3
   },
   "file_extension": ".py",
   "mimetype": "text/x-python",
   "name": "python",
   "nbconvert_exporter": "python",
   "pygments_lexer": "ipython3",
   "version": "3.10.7"
  }
 },
 "nbformat": 4,
 "nbformat_minor": 5
}
